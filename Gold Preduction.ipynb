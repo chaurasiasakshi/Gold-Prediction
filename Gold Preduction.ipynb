{
 "cells": [
  {
   "cell_type": "code",
   "execution_count": 1,
   "id": "65cb5fbf-249d-4417-9dc9-ff97c5780c5b",
   "metadata": {},
   "outputs": [],
   "source": [
    "import numpy as np\n",
    "import pandas as pd\n",
    "import matplotlib.pyplot as plt\n",
    "import seaborn as sns"
   ]
  },
  {
   "cell_type": "code",
   "execution_count": 2,
   "id": "2054c05f-3be9-46cf-b220-efb9fdd1bc28",
   "metadata": {},
   "outputs": [],
   "source": [
    "from sklearn.model_selection import train_test_split\n",
    "from sklearn.ensemble import RandomForestRegressor\n",
    "from sklearn.metrics import r2_score\n",
    "from sklearn import metrics"
   ]
  },
  {
   "cell_type": "code",
   "execution_count": 3,
   "id": "0b2cf5b4-f8be-43a4-b39a-5134c619d02b",
   "metadata": {},
   "outputs": [],
   "source": [
    "data = pd.read_csv('gld_price_data.csv')"
   ]
  },
  {
   "cell_type": "code",
   "execution_count": 4,
   "id": "63e02083-205f-4a41-887f-00cefb2b9cfa",
   "metadata": {},
   "outputs": [
    {
     "data": {
      "text/html": [
       "<div>\n",
       "<style scoped>\n",
       "    .dataframe tbody tr th:only-of-type {\n",
       "        vertical-align: middle;\n",
       "    }\n",
       "\n",
       "    .dataframe tbody tr th {\n",
       "        vertical-align: top;\n",
       "    }\n",
       "\n",
       "    .dataframe thead th {\n",
       "        text-align: right;\n",
       "    }\n",
       "</style>\n",
       "<table border=\"1\" class=\"dataframe\">\n",
       "  <thead>\n",
       "    <tr style=\"text-align: right;\">\n",
       "      <th></th>\n",
       "      <th>Date</th>\n",
       "      <th>SPX</th>\n",
       "      <th>GLD</th>\n",
       "      <th>USO</th>\n",
       "      <th>SLV</th>\n",
       "      <th>EUR/USD</th>\n",
       "    </tr>\n",
       "  </thead>\n",
       "  <tbody>\n",
       "    <tr>\n",
       "      <th>0</th>\n",
       "      <td>1/2/2008</td>\n",
       "      <td>1447.160034</td>\n",
       "      <td>84.860001</td>\n",
       "      <td>78.470001</td>\n",
       "      <td>15.180</td>\n",
       "      <td>1.471692</td>\n",
       "    </tr>\n",
       "    <tr>\n",
       "      <th>1</th>\n",
       "      <td>1/3/2008</td>\n",
       "      <td>1447.160034</td>\n",
       "      <td>85.570000</td>\n",
       "      <td>78.370003</td>\n",
       "      <td>15.285</td>\n",
       "      <td>1.474491</td>\n",
       "    </tr>\n",
       "  </tbody>\n",
       "</table>\n",
       "</div>"
      ],
      "text/plain": [
       "       Date          SPX        GLD        USO     SLV   EUR/USD\n",
       "0  1/2/2008  1447.160034  84.860001  78.470001  15.180  1.471692\n",
       "1  1/3/2008  1447.160034  85.570000  78.370003  15.285  1.474491"
      ]
     },
     "execution_count": 4,
     "metadata": {},
     "output_type": "execute_result"
    }
   ],
   "source": [
    "data.head(2)"
   ]
  },
  {
   "cell_type": "code",
   "execution_count": 5,
   "id": "f0bca792-2008-491c-8e3e-c2eb16dfc0af",
   "metadata": {},
   "outputs": [
    {
     "data": {
      "text/plain": [
       "(2290, 6)"
      ]
     },
     "execution_count": 5,
     "metadata": {},
     "output_type": "execute_result"
    }
   ],
   "source": [
    "data.shape"
   ]
  },
  {
   "cell_type": "code",
   "execution_count": 6,
   "id": "13359244-b2c4-4db8-a526-add7a5997403",
   "metadata": {},
   "outputs": [
    {
     "name": "stdout",
     "output_type": "stream",
     "text": [
      "<class 'pandas.core.frame.DataFrame'>\n",
      "RangeIndex: 2290 entries, 0 to 2289\n",
      "Data columns (total 6 columns):\n",
      " #   Column   Non-Null Count  Dtype  \n",
      "---  ------   --------------  -----  \n",
      " 0   Date     2290 non-null   object \n",
      " 1   SPX      2290 non-null   float64\n",
      " 2   GLD      2290 non-null   float64\n",
      " 3   USO      2290 non-null   float64\n",
      " 4   SLV      2290 non-null   float64\n",
      " 5   EUR/USD  2290 non-null   float64\n",
      "dtypes: float64(5), object(1)\n",
      "memory usage: 107.5+ KB\n"
     ]
    }
   ],
   "source": [
    "data.info()"
   ]
  },
  {
   "cell_type": "code",
   "execution_count": 7,
   "id": "ae7522e0-1a0c-446c-a7a1-d55101f95b80",
   "metadata": {},
   "outputs": [
    {
     "data": {
      "text/html": [
       "<div>\n",
       "<style scoped>\n",
       "    .dataframe tbody tr th:only-of-type {\n",
       "        vertical-align: middle;\n",
       "    }\n",
       "\n",
       "    .dataframe tbody tr th {\n",
       "        vertical-align: top;\n",
       "    }\n",
       "\n",
       "    .dataframe thead th {\n",
       "        text-align: right;\n",
       "    }\n",
       "</style>\n",
       "<table border=\"1\" class=\"dataframe\">\n",
       "  <thead>\n",
       "    <tr style=\"text-align: right;\">\n",
       "      <th></th>\n",
       "      <th>SPX</th>\n",
       "      <th>GLD</th>\n",
       "      <th>USO</th>\n",
       "      <th>SLV</th>\n",
       "      <th>EUR/USD</th>\n",
       "    </tr>\n",
       "  </thead>\n",
       "  <tbody>\n",
       "    <tr>\n",
       "      <th>count</th>\n",
       "      <td>2290.000000</td>\n",
       "      <td>2290.000000</td>\n",
       "      <td>2290.000000</td>\n",
       "      <td>2290.000000</td>\n",
       "      <td>2290.000000</td>\n",
       "    </tr>\n",
       "    <tr>\n",
       "      <th>mean</th>\n",
       "      <td>1654.315776</td>\n",
       "      <td>122.732875</td>\n",
       "      <td>31.842221</td>\n",
       "      <td>20.084997</td>\n",
       "      <td>1.283653</td>\n",
       "    </tr>\n",
       "    <tr>\n",
       "      <th>std</th>\n",
       "      <td>519.111540</td>\n",
       "      <td>23.283346</td>\n",
       "      <td>19.523517</td>\n",
       "      <td>7.092566</td>\n",
       "      <td>0.131547</td>\n",
       "    </tr>\n",
       "    <tr>\n",
       "      <th>min</th>\n",
       "      <td>676.530029</td>\n",
       "      <td>70.000000</td>\n",
       "      <td>7.960000</td>\n",
       "      <td>8.850000</td>\n",
       "      <td>1.039047</td>\n",
       "    </tr>\n",
       "    <tr>\n",
       "      <th>25%</th>\n",
       "      <td>1239.874969</td>\n",
       "      <td>109.725000</td>\n",
       "      <td>14.380000</td>\n",
       "      <td>15.570000</td>\n",
       "      <td>1.171313</td>\n",
       "    </tr>\n",
       "    <tr>\n",
       "      <th>50%</th>\n",
       "      <td>1551.434998</td>\n",
       "      <td>120.580002</td>\n",
       "      <td>33.869999</td>\n",
       "      <td>17.268500</td>\n",
       "      <td>1.303297</td>\n",
       "    </tr>\n",
       "    <tr>\n",
       "      <th>75%</th>\n",
       "      <td>2073.010070</td>\n",
       "      <td>132.840004</td>\n",
       "      <td>37.827501</td>\n",
       "      <td>22.882500</td>\n",
       "      <td>1.369971</td>\n",
       "    </tr>\n",
       "    <tr>\n",
       "      <th>max</th>\n",
       "      <td>2872.870117</td>\n",
       "      <td>184.589996</td>\n",
       "      <td>117.480003</td>\n",
       "      <td>47.259998</td>\n",
       "      <td>1.598798</td>\n",
       "    </tr>\n",
       "  </tbody>\n",
       "</table>\n",
       "</div>"
      ],
      "text/plain": [
       "               SPX          GLD          USO          SLV      EUR/USD\n",
       "count  2290.000000  2290.000000  2290.000000  2290.000000  2290.000000\n",
       "mean   1654.315776   122.732875    31.842221    20.084997     1.283653\n",
       "std     519.111540    23.283346    19.523517     7.092566     0.131547\n",
       "min     676.530029    70.000000     7.960000     8.850000     1.039047\n",
       "25%    1239.874969   109.725000    14.380000    15.570000     1.171313\n",
       "50%    1551.434998   120.580002    33.869999    17.268500     1.303297\n",
       "75%    2073.010070   132.840004    37.827501    22.882500     1.369971\n",
       "max    2872.870117   184.589996   117.480003    47.259998     1.598798"
      ]
     },
     "execution_count": 7,
     "metadata": {},
     "output_type": "execute_result"
    }
   ],
   "source": [
    "data.describe()"
   ]
  },
  {
   "cell_type": "code",
   "execution_count": 8,
   "id": "a1774a85-07a3-46f2-bb3d-b8e3abf8b0a3",
   "metadata": {},
   "outputs": [
    {
     "data": {
      "text/plain": [
       "Date       0\n",
       "SPX        0\n",
       "GLD        0\n",
       "USO        0\n",
       "SLV        0\n",
       "EUR/USD    0\n",
       "dtype: int64"
      ]
     },
     "execution_count": 8,
     "metadata": {},
     "output_type": "execute_result"
    }
   ],
   "source": [
    "data.isnull().sum()"
   ]
  },
  {
   "cell_type": "code",
   "execution_count": null,
   "id": "e63aec8c-3f3c-45af-87d7-ba72a6540f3e",
   "metadata": {},
   "outputs": [],
   "source": []
  },
  {
   "cell_type": "code",
   "execution_count": null,
   "id": "a3c28303-6dff-4e63-8db2-eb79b7ef19b9",
   "metadata": {},
   "outputs": [],
   "source": []
  },
  {
   "cell_type": "code",
   "execution_count": 9,
   "id": "27bea062-03bd-4ee6-8e3d-54b605715c3e",
   "metadata": {},
   "outputs": [
    {
     "name": "stderr",
     "output_type": "stream",
     "text": [
      "C:\\Users\\saksh\\AppData\\Local\\Temp\\ipykernel_18680\\4202926696.py:3: UserWarning: \n",
      "\n",
      "`distplot` is a deprecated function and will be removed in seaborn v0.14.0.\n",
      "\n",
      "Please adapt your code to use either `displot` (a figure-level function with\n",
      "similar flexibility) or `histplot` (an axes-level function for histograms).\n",
      "\n",
      "For a guide to updating your code to use the new functions, please see\n",
      "https://gist.github.com/mwaskom/de44147ed2974457ad6372750bbe5751\n",
      "\n",
      "  sns.distplot(data['GLD'])\n"
     ]
    },
    {
     "data": {
      "text/plain": [
       "<Axes: xlabel='GLD', ylabel='Density'>"
      ]
     },
     "execution_count": 9,
     "metadata": {},
     "output_type": "execute_result"
    },
    {
     "data": {
      "image/png": "[encoded data removed]",
      "text/plain": [
       "<Figure size 640x480 with 1 Axes>"
      ]
     },
     "metadata": {},
     "output_type": "display_data"
    }
   ],
   "source": [
    "#Distribution\n",
    "\n",
    "sns.distplot(data['GLD'])"
   ]
  },
  {
   "cell_type": "code",
   "execution_count": null,
   "id": "b7b6e9e8-a698-431c-bcee-79ba8b968815",
   "metadata": {},
   "outputs": [],
   "source": []
  },
  {
   "cell_type": "code",
   "execution_count": 10,
   "id": "88d3a6b3-4186-496e-915b-942ef4eee7a4",
   "metadata": {},
   "outputs": [],
   "source": [
    "#Splitting the Features and Target"
   ]
  },
  {
   "cell_type": "code",
   "execution_count": 11,
   "id": "8cbf7599-1922-46c5-940c-aaf8b69d4eda",
   "metadata": {},
   "outputs": [],
   "source": [
    "X = data.drop(['Date','GLD'],axis=1)\n",
    "Y= data['GLD']"
   ]
  },
  {
   "cell_type": "code",
   "execution_count": 12,
   "id": "c30f55fb-2c89-4da4-b348-991af7ba26ce",
   "metadata": {},
   "outputs": [
    {
     "data": {
      "text/html": [
       "<div>\n",
       "<style scoped>\n",
       "    .dataframe tbody tr th:only-of-type {\n",
       "        vertical-align: middle;\n",
       "    }\n",
       "\n",
       "    .dataframe tbody tr th {\n",
       "        vertical-align: top;\n",
       "    }\n",
       "\n",
       "    .dataframe thead th {\n",
       "        text-align: right;\n",
       "    }\n",
       "</style>\n",
       "<table border=\"1\" class=\"dataframe\">\n",
       "  <thead>\n",
       "    <tr style=\"text-align: right;\">\n",
       "      <th></th>\n",
       "      <th>SPX</th>\n",
       "      <th>USO</th>\n",
       "      <th>SLV</th>\n",
       "      <th>EUR/USD</th>\n",
       "    </tr>\n",
       "  </thead>\n",
       "  <tbody>\n",
       "    <tr>\n",
       "      <th>0</th>\n",
       "      <td>1447.160034</td>\n",
       "      <td>78.470001</td>\n",
       "      <td>15.1800</td>\n",
       "      <td>1.471692</td>\n",
       "    </tr>\n",
       "    <tr>\n",
       "      <th>1</th>\n",
       "      <td>1447.160034</td>\n",
       "      <td>78.370003</td>\n",
       "      <td>15.2850</td>\n",
       "      <td>1.474491</td>\n",
       "    </tr>\n",
       "    <tr>\n",
       "      <th>2</th>\n",
       "      <td>1411.630005</td>\n",
       "      <td>77.309998</td>\n",
       "      <td>15.1670</td>\n",
       "      <td>1.475492</td>\n",
       "    </tr>\n",
       "    <tr>\n",
       "      <th>3</th>\n",
       "      <td>1416.180054</td>\n",
       "      <td>75.500000</td>\n",
       "      <td>15.0530</td>\n",
       "      <td>1.468299</td>\n",
       "    </tr>\n",
       "    <tr>\n",
       "      <th>4</th>\n",
       "      <td>1390.189941</td>\n",
       "      <td>76.059998</td>\n",
       "      <td>15.5900</td>\n",
       "      <td>1.557099</td>\n",
       "    </tr>\n",
       "    <tr>\n",
       "      <th>...</th>\n",
       "      <td>...</td>\n",
       "      <td>...</td>\n",
       "      <td>...</td>\n",
       "      <td>...</td>\n",
       "    </tr>\n",
       "    <tr>\n",
       "      <th>2285</th>\n",
       "      <td>2671.919922</td>\n",
       "      <td>14.060000</td>\n",
       "      <td>15.5100</td>\n",
       "      <td>1.186789</td>\n",
       "    </tr>\n",
       "    <tr>\n",
       "      <th>2286</th>\n",
       "      <td>2697.790039</td>\n",
       "      <td>14.370000</td>\n",
       "      <td>15.5300</td>\n",
       "      <td>1.184722</td>\n",
       "    </tr>\n",
       "    <tr>\n",
       "      <th>2287</th>\n",
       "      <td>2723.070068</td>\n",
       "      <td>14.410000</td>\n",
       "      <td>15.7400</td>\n",
       "      <td>1.191753</td>\n",
       "    </tr>\n",
       "    <tr>\n",
       "      <th>2288</th>\n",
       "      <td>2730.129883</td>\n",
       "      <td>14.380000</td>\n",
       "      <td>15.5600</td>\n",
       "      <td>1.193118</td>\n",
       "    </tr>\n",
       "    <tr>\n",
       "      <th>2289</th>\n",
       "      <td>2725.780029</td>\n",
       "      <td>14.405800</td>\n",
       "      <td>15.4542</td>\n",
       "      <td>1.182033</td>\n",
       "    </tr>\n",
       "  </tbody>\n",
       "</table>\n",
       "<p>2290 rows × 4 columns</p>\n",
       "</div>"
      ],
      "text/plain": [
       "              SPX        USO      SLV   EUR/USD\n",
       "0     1447.160034  78.470001  15.1800  1.471692\n",
       "1     1447.160034  78.370003  15.2850  1.474491\n",
       "2     1411.630005  77.309998  15.1670  1.475492\n",
       "3     1416.180054  75.500000  15.0530  1.468299\n",
       "4     1390.189941  76.059998  15.5900  1.557099\n",
       "...           ...        ...      ...       ...\n",
       "2285  2671.919922  14.060000  15.5100  1.186789\n",
       "2286  2697.790039  14.370000  15.5300  1.184722\n",
       "2287  2723.070068  14.410000  15.7400  1.191753\n",
       "2288  2730.129883  14.380000  15.5600  1.193118\n",
       "2289  2725.780029  14.405800  15.4542  1.182033\n",
       "\n",
       "[2290 rows x 4 columns]"
      ]
     },
     "execution_count": 12,
     "metadata": {},
     "output_type": "execute_result"
    }
   ],
   "source": [
    "X"
   ]
  },
  {
   "cell_type": "code",
   "execution_count": 13,
   "id": "77840147-b0bf-46b2-9f44-66d4804b6446",
   "metadata": {},
   "outputs": [
    {
     "data": {
      "text/html": [
       "<div>\n",
       "<style scoped>\n",
       "    .dataframe tbody tr th:only-of-type {\n",
       "        vertical-align: middle;\n",
       "    }\n",
       "\n",
       "    .dataframe tbody tr th {\n",
       "        vertical-align: top;\n",
       "    }\n",
       "\n",
       "    .dataframe thead th {\n",
       "        text-align: right;\n",
       "    }\n",
       "</style>\n",
       "<table border=\"1\" class=\"dataframe\">\n",
       "  <thead>\n",
       "    <tr style=\"text-align: right;\">\n",
       "      <th></th>\n",
       "      <th>SPX</th>\n",
       "      <th>USO</th>\n",
       "      <th>SLV</th>\n",
       "      <th>EUR/USD</th>\n",
       "    </tr>\n",
       "  </thead>\n",
       "  <tbody>\n",
       "    <tr>\n",
       "      <th>SPX</th>\n",
       "      <td>1.000000</td>\n",
       "      <td>-0.591573</td>\n",
       "      <td>-0.274055</td>\n",
       "      <td>-0.672017</td>\n",
       "    </tr>\n",
       "    <tr>\n",
       "      <th>USO</th>\n",
       "      <td>-0.591573</td>\n",
       "      <td>1.000000</td>\n",
       "      <td>0.167547</td>\n",
       "      <td>0.829317</td>\n",
       "    </tr>\n",
       "    <tr>\n",
       "      <th>SLV</th>\n",
       "      <td>-0.274055</td>\n",
       "      <td>0.167547</td>\n",
       "      <td>1.000000</td>\n",
       "      <td>0.321631</td>\n",
       "    </tr>\n",
       "    <tr>\n",
       "      <th>EUR/USD</th>\n",
       "      <td>-0.672017</td>\n",
       "      <td>0.829317</td>\n",
       "      <td>0.321631</td>\n",
       "      <td>1.000000</td>\n",
       "    </tr>\n",
       "  </tbody>\n",
       "</table>\n",
       "</div>"
      ],
      "text/plain": [
       "              SPX       USO       SLV   EUR/USD\n",
       "SPX      1.000000 -0.591573 -0.274055 -0.672017\n",
       "USO     -0.591573  1.000000  0.167547  0.829317\n",
       "SLV     -0.274055  0.167547  1.000000  0.321631\n",
       "EUR/USD -0.672017  0.829317  0.321631  1.000000"
      ]
     },
     "execution_count": 13,
     "metadata": {},
     "output_type": "execute_result"
    }
   ],
   "source": [
    "X.corr()"
   ]
  },
  {
   "cell_type": "code",
   "execution_count": null,
   "id": "61aac2ff-b5d2-4e9d-a713-1de5c9f4df66",
   "metadata": {},
   "outputs": [],
   "source": []
  },
  {
   "cell_type": "code",
   "execution_count": 26,
   "id": "bc0b663f-94e2-46e1-a6fd-f1d8b8b41428",
   "metadata": {},
   "outputs": [
    {
     "data": {
      "text/plain": [
       "0        84.860001\n",
       "1        85.570000\n",
       "2        85.129997\n",
       "3        84.769997\n",
       "4        86.779999\n",
       "           ...    \n",
       "2285    124.589996\n",
       "2286    124.330002\n",
       "2287    125.180000\n",
       "2288    124.489998\n",
       "2289    122.543800\n",
       "Name: GLD, Length: 2290, dtype: float64"
      ]
     },
     "execution_count": 26,
     "metadata": {},
     "output_type": "execute_result"
    }
   ],
   "source": [
    "Y"
   ]
  },
  {
   "cell_type": "code",
   "execution_count": 15,
   "id": "0d441185-7556-4718-893a-bd7a8842de62",
   "metadata": {},
   "outputs": [],
   "source": [
    "X_train , X_test , Y_train , Y_test = train_test_split(X,Y,test_size=0.2,random_state=2)\n"
   ]
  },
  {
   "cell_type": "code",
   "execution_count": 16,
   "id": "44689509-9a90-47a7-982b-18ed5a944735",
   "metadata": {},
   "outputs": [],
   "source": [
    "#Model Training : RandomForestRegressor\n",
    "\n"
   ]
  },
  {
   "cell_type": "code",
   "execution_count": 17,
   "id": "0798a6e7-849a-4ffe-9db6-172b1c3fe5ed",
   "metadata": {},
   "outputs": [],
   "source": [
    "regressor = RandomForestRegressor(n_estimators=100)"
   ]
  },
  {
   "cell_type": "code",
   "execution_count": 18,
   "id": "8ee77eeb-6ac1-498f-b87f-e9532c9c654b",
   "metadata": {},
   "outputs": [],
   "source": [
    "# Training the Model\n",
    "regressor.fit(X_train,Y_train)\n",
    "pred = regressor.predict(X_test)"
   ]
  },
  {
   "cell_type": "code",
   "execution_count": 19,
   "id": "ae64bea0-d3bd-4936-9735-e18c76f7013e",
   "metadata": {},
   "outputs": [],
   "source": [
    "# Model Evaluation\n",
    "#print(Y_test,pred)"
   ]
  },
  {
   "cell_type": "code",
   "execution_count": 20,
   "id": "1bfdb21d-9404-4963-8f69-310ab84501ad",
   "metadata": {},
   "outputs": [],
   "source": [
    "# prediction on Test Data"
   ]
  },
  {
   "cell_type": "code",
   "execution_count": 21,
   "id": "051ba498-1188-4cd6-8fbe-0ec89c65d4ce",
   "metadata": {},
   "outputs": [
    {
     "name": "stdout",
     "output_type": "stream",
     "text": [
      "[168.66209917  82.09540008 116.05070008 127.73610086 120.54490138\n",
      " 154.78229813 150.34889844 126.13950009 117.52889896 126.15300055\n",
      " 116.67350085 171.43490066 141.46709831 168.06639861 115.08350037\n",
      " 117.65230065 140.04740235 169.92560082 159.8042031  160.42909949\n",
      " 155.14459998 125.02580046 176.32129874 157.57810305 125.3122005\n",
      "  93.80539957  77.39090012 120.82980004 119.09279922 167.52579941\n",
      "  88.27300015 125.40820029  91.17240065 117.66020018 121.08839902\n",
      " 136.10190113 115.45560112 114.96080089 147.12259993 107.37340135\n",
      " 104.6382024   87.24909805 126.45530067 117.96069983 153.36509947\n",
      " 119.53820046 108.4460002  108.28859866  93.19200037 127.10479808\n",
      "  74.72320039 113.70999918 121.55669991 111.12399937 118.87629903\n",
      " 120.4038995  159.07470114 167.63060134 147.09799697  85.67039854\n",
      "  94.3218004   86.87689907  90.53790015 118.9403007  126.46610032\n",
      " 127.4669     169.92890038 122.28879928 117.39909882  98.51120011\n",
      " 168.760201   142.93449744 132.38400308 121.11920197 121.24239953\n",
      " 119.80610073 114.29780179 118.0677006  107.34350114 127.75130076\n",
      " 113.9946996  106.58720008 116.68190048 119.522599    88.81160036\n",
      "  88.26529867 147.02880278 126.89959937 113.46400031 110.10879851\n",
      " 108.20199896  77.16679894 169.26100186 114.0901992  121.59289897\n",
      " 128.18480172 155.03419847  91.70029948 136.38370168 158.41500339\n",
      " 124.89170067 125.56680034 130.93080126 114.80370159 119.75099979\n",
      "  92.16089961 110.13959855 167.78679956 155.76089904 114.21319947\n",
      " 106.68120126  78.99120017 113.18970033 125.92110088 107.12029937\n",
      " 119.18970082 156.03980314 159.89579982 119.99809986 135.34090314\n",
      " 101.35529991 117.403398   119.37730015 112.9230006  102.79509936\n",
      " 160.19999774  99.45900042 147.03409949 125.78860094 170.00929889\n",
      " 125.79619893 127.2687977  127.57520172 113.76839936 112.91140068\n",
      " 123.58489899 102.20479925  89.50199963 125.03129956 101.68209932\n",
      " 107.15989903 113.89140038 117.11400066  99.10329925 122.14950023\n",
      " 163.42249883  87.37289854 106.77239959 117.12780069 127.56400131\n",
      " 124.21400069  80.7450992  120.39930053 158.48589766  88.17269994\n",
      " 110.33509975 118.71739889 171.64929896 103.03119906 105.37610071\n",
      " 122.32960055 159.05999751  87.55149817  92.98550039 112.6782003\n",
      " 177.4187987  114.17429977 119.34050015  94.60750103 125.92640014\n",
      " 165.99370052 114.81140104 116.55380169  88.40689864 148.60080012\n",
      " 120.3026994   89.51269984 112.91389998 117.4423005  118.80750144\n",
      "  88.17009957  94.36020008 116.94480013 118.67690184 120.48500039\n",
      " 126.79329798 121.83899957 149.11670001 165.50819995 118.50959959\n",
      " 120.41870148 152.50280037 118.1981989  172.30169867 105.58559926\n",
      " 104.98040139 149.10910016 114.00130062 124.76500118 147.52799958\n",
      " 119.51720126 115.33650046 112.89720006 113.28230214 139.39100073\n",
      " 117.85299768 102.86250022 115.82110093 104.04200169  98.94700025\n",
      " 117.26820088  90.59730023  91.47590014 153.54059934 102.80309993\n",
      " 154.89700069 114.25480151 139.09690127  90.20029797 115.49149938\n",
      " 114.70779972 122.8250002  121.52260055 165.18460142  92.95669926\n",
      " 135.06480116 121.27789942 120.93740063 104.77169989 141.91000326\n",
      " 121.76459952 116.67570053 113.42800119 127.06879727 122.99049939\n",
      " 125.73839967 121.1670007   86.83119942 132.32740177 142.63100237\n",
      "  92.64899955 157.70580024 159.04200289 126.27789866 165.64069949\n",
      " 108.65599941 109.69410083 103.62069808  94.1959009  127.99830269\n",
      " 107.35380066 160.32290074 122.23729991 132.15889995 130.60860126\n",
      " 161.01060054  90.23159824 175.0809011  127.29480051 126.88239814\n",
      "  85.9987992  124.49139896 150.3381973   89.64890009 106.78579959\n",
      " 109.0193      84.0358988  135.8343998  154.86120222 138.85350405\n",
      "  74.04270007 153.07660052 126.08559908 126.79040012 127.56799892\n",
      " 108.68969939 156.24209942 114.42620118 116.9124014  125.64859952\n",
      " 154.06560112 121.42330006 156.37089863  92.93950078 125.50500118\n",
      " 125.80680035  87.92810069  92.16319936 126.334099   128.31440344\n",
      " 113.20610043 117.61849729 121.04160005 126.98239771 119.69440079\n",
      " 136.08860108  93.90119912 119.762      113.53510086  94.37459928\n",
      " 108.91279982  87.39469924 109.01249954  89.68199954  92.34319994\n",
      " 131.69520263 162.28620097  89.20530001 119.78130052 133.18580172\n",
      " 123.87470014 128.34250167 101.99879872  89.10929872 132.03160084\n",
      " 119.93160043 108.60750004 166.92090092 115.15030028  86.60109946\n",
      " 118.87680085  91.10199989 161.74810071 116.42760045 121.55290002\n",
      " 160.11329741 120.09309924 112.76539911 108.47129868 126.65259986\n",
      "  75.9268005  103.0023998  127.83980258 121.70199886  92.67400016\n",
      " 132.44280091 118.15220097 115.86799954 154.59220269 159.28320085\n",
      " 110.11329975 154.05039835 119.31110106 160.46420105 118.22820041\n",
      " 157.30459983 115.10039912 116.42650024 149.10599961 114.66880084\n",
      " 125.5990985  165.05739855 117.53470001 125.0715998  153.43830306\n",
      " 153.55710277 132.02630045 114.70860038 121.143602   125.72020125\n",
      "  89.77990031 123.30069976 154.80090236 111.68770028 106.66049965\n",
      " 161.98720113 118.71379963 165.64349925 134.34380117 115.00369974\n",
      " 152.99289929 168.67160005 115.03370011 114.00700141 158.76479889\n",
      "  85.22949913 127.08330088 127.89120088 128.77030082 124.20230062\n",
      " 123.86500046  90.3970005  153.29260112  97.12369976 137.94359942\n",
      "  88.86709941 106.5405001  115.07920048 112.79530103 124.39959909\n",
      "  91.37439899 125.37940113 162.31459909 119.96419867 165.0659007\n",
      " 126.85249794 112.29130007 127.61949894  95.12169928  91.10639991\n",
      " 103.75419903 120.98130002  83.26059919 126.23360009 160.66830439\n",
      " 117.30350089 118.35749989 120.07219983 122.73949967 120.08560135\n",
      " 121.37599983 118.16750054 106.99720021 148.49640026 126.32009835\n",
      " 115.72410077  74.10170014 127.8932011  155.07860115 122.31000013\n",
      " 125.58400031  88.75949978 103.27689865 125.00730023 120.34930036\n",
      "  73.45610082 151.85270036 121.3561001  104.64079997  86.43289773\n",
      " 115.09509971 172.25459893 119.80450047 158.75169767 113.2560993\n",
      " 120.96340009 118.18040083  96.03849987 118.63589979 126.19550062\n",
      " 118.4379998   96.03690085 153.69880193 122.18750009 147.31130015\n",
      " 159.51280272 113.79420021 122.53109944 148.71709841 127.15040061\n",
      " 165.77970067 135.66550001 119.88739917 167.49079899 108.57539927\n",
      " 121.66219843 138.60290149 106.08879904]\n"
     ]
    }
   ],
   "source": [
    "test_data_prediction = regressor.predict(X_test)\n",
    "print(test_data_prediction)"
   ]
  },
  {
   "cell_type": "code",
   "execution_count": null,
   "id": "d72943f8-4dcb-4990-b937-8ba4a630f8b9",
   "metadata": {},
   "outputs": [],
   "source": []
  },
  {
   "cell_type": "code",
   "execution_count": 22,
   "id": "c1a0be09-0cb8-4f68-a267-9c9f8ef2ebd6",
   "metadata": {},
   "outputs": [
    {
     "name": "stdout",
     "output_type": "stream",
     "text": [
      "R Squared error :  0.989804600258599\n"
     ]
    }
   ],
   "source": [
    "# R Squared error\n",
    "\n",
    "score = metrics.r2_score(Y_test,test_data_prediction)\n",
    "print(\"R Squared error : \" ,score)"
   ]
  },
  {
   "cell_type": "code",
   "execution_count": 23,
   "id": "aa131400-0497-49a7-a206-4c115dd2a1bb",
   "metadata": {},
   "outputs": [],
   "source": [
    "# Compare Actual Values and Predicted Values "
   ]
  },
  {
   "cell_type": "code",
   "execution_count": 24,
   "id": "7f553794-5ab4-4ad7-aa46-ef84eaf3361c",
   "metadata": {},
   "outputs": [],
   "source": [
    "Y_test = list(Y_test)"
   ]
  },
  {
   "cell_type": "code",
   "execution_count": 25,
   "id": "5f64e871-a1d2-4b23-8fb7-a4c312019359",
   "metadata": {},
   "outputs": [
    {
     "data": {
      "image/png": "[encoded data removed]",
      "text/plain": [
       "<Figure size 640x480 with 1 Axes>"
      ]
     },
     "metadata": {},
     "output_type": "display_data"
    }
   ],
   "source": [
    "plt.plot(Y_test, color='blue' , label='Actual Value')\n",
    "plt.plot(test_data_prediction , color='green' ,label='Predicted Value')\n",
    "plt.title(\"Actual Price VS Predicted Price\")\n",
    "plt.xlabel('Number of Values')\n",
    "plt.ylabel('GLD Price')\n",
    "plt.legend()\n",
    "plt.show()"
   ]
  },
  {
   "cell_type": "code",
   "execution_count": null,
   "id": "56b6a832-9a1b-48e9-87d9-4552dc89afbe",
   "metadata": {},
   "outputs": [],
   "source": []
  },
  {
   "cell_type": "code",
   "execution_count": null,
   "id": "650ca154-42ad-4301-aad5-a2e41e420d8c",
   "metadata": {},
   "outputs": [],
   "source": []
  },
  {
   "cell_type": "code",
   "execution_count": 28,
   "id": "7f544b6c-4711-4c96-bece-80d57573b1e1",
   "metadata": {},
   "outputs": [],
   "source": [
    "import pickle"
   ]
  },
  {
   "cell_type": "code",
   "execution_count": 29,
   "id": "0f067eab-e6ac-438a-862f-862a90606fbe",
   "metadata": {},
   "outputs": [],
   "source": [
    "pickle.dump(regressor,open(\"gold_price_predictor.pkl\",\"wb\"))"
   ]
  },
  {
   "cell_type": "code",
   "execution_count": 31,
   "id": "cf785721-e99e-467e-8fe7-c39482d892a1",
   "metadata": {},
   "outputs": [],
   "source": [
    "#pickle.dump(model,open(\"gold_price_predictor_model.pkl\",\"wb\"))"
   ]
  },
  {
   "cell_type": "code",
   "execution_count": null,
   "id": "43b6e689-9d63-482d-b7c9-1f0872d68151",
   "metadata": {},
   "outputs": [],
   "source": []
  },
  {
   "cell_type": "code",
   "execution_count": null,
   "id": "fa28407b-9100-4261-9bf8-4adc5330112f",
   "metadata": {},
   "outputs": [],
   "source": []
  }
 ],
 "metadata": {
  "kernelspec": {
   "display_name": "Python 3 (ipykernel)",
   "language": "python",
   "name": "python3"
  },
  "language_info": {
   "codemirror_mode": {
    "name": "ipython",
    "version": 3
   },
   "file_extension": ".py",
   "mimetype": "text/x-python",
   "name": "python",
   "nbconvert_exporter": "python",
   "pygments_lexer": "ipython3",
   "version": "3.10.11"
  }
 },
 "nbformat": 4,
 "nbformat_minor": 5
}
